{
 "cells": [
  {
   "cell_type": "code",
   "execution_count": 5,
   "metadata": {},
   "outputs": [
    {
     "name": "stdout",
     "output_type": "stream",
     "text": [
      "<class 'collections.deque'>\n"
     ]
    }
   ],
   "source": [
    "import sys\n",
    "from collections import deque\n",
    "input = sys.stdin.readline\n",
    "t = [deque(list(map(int,'1234'))) for _ in range(4)] # 톱니 상태 저장\n",
    "print(type(t[0]))"
   ]
  },
  {
   "cell_type": "code",
   "execution_count": 2,
   "metadata": {},
   "outputs": [
    {
     "name": "stdout",
     "output_type": "stream",
     "text": [
      "[1, 2, 3, 4]\n"
     ]
    }
   ],
   "source": [
    "# ✨ 입력\n",
    "import sys\n",
    "from collections import deque\n",
    "input = sys.stdin.readline\n",
    "t = [deque(list(map(int,input().rstrip()))) for _ in range(4)] # 톱니 상태 저장\n",
    "\n",
    "# ✨ 톱니 돌리기 \n",
    "k = int(input())\n",
    "for _ in range(k): \n",
    "\tr = [] # ✨ 처음 톱니 상태 저장\n",
    "\tfor i in range(4):\n",
    "\t\tr.append([t[i][6],t[i][2]])\n",
    "\tn,d = map(int,input().split())\n",
    "\tn = n-1\n",
    "    \n",
    "    # ✨ 왼쪽에 있는 톱니들 돌리기\n",
    "\tif n != 0 :\n",
    "\t\tfor i in range(n,0,-1):\n",
    "\t\t\tif r[i][0] != r[i-1][1]:\n",
    "\t\t\t\tif (n-(i-1))%2 == 0:\n",
    "\t\t\t\t\tt[i-1].rotate(d)\n",
    "\t\t\t\telif (n-(i-1))%2 != 0:\n",
    "\t\t\t\t\tt[i-1].rotate(-1*d)\n",
    "\t\t\telif r[i][0] == r[i-1][1]:\n",
    "\t\t\t\tbreak\n",
    "                \n",
    "\t# ✨ 오른쪽에 있는 톱니들 돌리기\n",
    "\tif n != 3:\n",
    "\t\tfor i in range(n,3):\n",
    "\t\t\tif r[i][1] != r[i+1][0]:\n",
    "\t\t\t\tif (n-(i+1))%2 == 0:\n",
    "\t\t\t\t\tt[i+1].rotate(d)\n",
    "\t\t\t\telif (n-(i+1))%2 != 0:\n",
    "\t\t\t\t\tt[i+1].rotate(-1*d)\n",
    "\t\t\telif r[i][1] == r[i+1][0]:\n",
    "\t\t\t\tbreak\n",
    "\tt[n].rotate(d)\n",
    "    \n",
    "# ✨ 출력\n",
    "res = 0\n",
    "if t[0][0] == 1:\n",
    "\tres+=1\n",
    "if t[1][0] == 1:\n",
    "\tres+=2\n",
    "if t[2][0] == 1:\n",
    "\tres+=4\n",
    "if t[3][0] ==1:\n",
    "\tres+=8\n",
    "print(res)"
   ]
  },
  {
   "cell_type": "code",
   "execution_count": null,
   "metadata": {},
   "outputs": [],
   "source": []
  }
 ],
 "metadata": {
  "kernelspec": {
   "display_name": "test-kernel",
   "language": "python",
   "name": "test"
  },
  "language_info": {
   "codemirror_mode": {
    "name": "ipython",
    "version": 3
   },
   "file_extension": ".py",
   "mimetype": "text/x-python",
   "name": "python",
   "nbconvert_exporter": "python",
   "pygments_lexer": "ipython3",
   "version": "3.7.16"
  }
 },
 "nbformat": 4,
 "nbformat_minor": 2
}
